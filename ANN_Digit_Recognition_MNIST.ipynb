{
 "cells": [
  {
   "cell_type": "markdown",
   "id": "5f31d292",
   "metadata": {},
   "source": [
    "1. Giriş Verisi"
   ]
  },
  {
   "cell_type": "code",
   "execution_count": null,
   "id": "be82cdb9",
   "metadata": {},
   "outputs": [],
   "source": [
    "import math\n",
    "import random\n",
    "\n",
    "# Öğrenme oranı\n",
    "learning_rate = 0.1\n",
    "\n",
    "# Giriş → Gizli katman (2 giriş, 2 gizli)\n",
    "w = [\n",
    "    [random.uniform(-1, 1), random.uniform(-1, 1)],  # x1 -> h1, h2\n",
    "    [random.uniform(-1, 1), random.uniform(-1, 1)]   # x2 -> h1, h2\n",
    "]\n",
    "b_hidden = [random.uniform(-1, 1), random.uniform(-1, 1)]  # b1, b2\n",
    "\n",
    "# Gizli -> Çıkış katmanı (2 gizli -> 1 çıkış)\n",
    "w_out = [random.uniform(-1, 1), random.uniform(-1, 1)]  # h1, h2 -> y (Gizli -> Çıkış)\n",
    "b_out = random.uniform(-1, 1)\n"
   ]
  },
  {
   "cell_type": "markdown",
   "id": "e9da95de",
   "metadata": {},
   "source": [
    "2. Aktivasyon Fonksiyonu"
   ]
  },
  {
   "cell_type": "markdown",
   "id": "bfc19c8d",
   "metadata": {},
   "source": [
    "    Giriş: x1, x2\n",
    "    Ağırlıklar: w1, w2\n",
    "    Bias: b\n",
    "    Çıktı = sigmoid(w1*x1 + w2*x2 + b)"
   ]
  },
  {
   "cell_type": "code",
   "execution_count": null,
   "id": "b8dbb92d",
   "metadata": {},
   "outputs": [],
   "source": [
    "def sigmoid(x):\n",
    "    return 1 / (1 + math.exp(-x))\n",
    "\n",
    "def sigmoid_derivative(o): # Backpropagation için lazım\n",
    "    return o * (1 - o)"
   ]
  },
  {
   "cell_type": "markdown",
   "id": "c3fd7b75",
   "metadata": {},
   "source": [
    "4. Forward Fonksiyonu"
   ]
  },
  {
   "cell_type": "markdown",
   "id": "ed854d4b",
   "metadata": {},
   "source": [
    "\n",
    "\n",
    "    - İleri Yayılım (Forward Propagation) Nedir?\n",
    "\n",
    "    Giriş verileri alınır.\n",
    "    Giriş katmanından gizli katmana doğru hesaplamalar yapılır.\n",
    "    Gizli katmandan çıkış katmanına geçilir.\n",
    "    Çıktılar (tahmin edilen değerler) elde edilir.\n"
   ]
  },
  {
   "cell_type": "code",
   "execution_count": null,
   "id": "36d8e0de",
   "metadata": {},
   "outputs": [],
   "source": [
    "def forward(x):\n",
    "    # Giriş -> Gizli\n",
    "    h_input = [\n",
    "        x[0] * w[0][0] + x[1] * w[1][0] + b_hidden[0],  # h1\n",
    "        x[0] * w[0][1] + x[1] * w[1][1] + b_hidden[1]   # h2\n",
    "    ]\n",
    "    h_output = [sigmoid(h) for h in h_input]\n",
    "\n",
    "    # Gizli -> Çıkış\n",
    "    y_input = h_output[0] * w_out[0] + h_output[1] * w_out[1] + b_out\n",
    "    y_output = sigmoid(y_input)\n",
    "\n",
    "    return h_output, y_output"
   ]
  },
  {
   "cell_type": "markdown",
   "id": "c9e5c09a",
   "metadata": {},
   "source": [
    "4. Backpropagation (Ağırlık ve Bias Güncelleme)"
   ]
  },
  {
   "cell_type": "markdown",
   "id": "1bcb6f55",
   "metadata": {},
   "source": [
    "    - Geri Yayılım (Backpropagation) Nedir?\n",
    "\n",
    "    Çıkıştaki hatayı hesapla (gerçek değer - tahmin).\n",
    "    Sigmoid fonksiyonunun türevini uygula.\n",
    "    Bu hatayı gizli katmana yay.\n",
    "    Ağırlıkları ve biasları güncelle."
   ]
  },
  {
   "cell_type": "code",
   "execution_count": null,
   "id": "28016a5c",
   "metadata": {},
   "outputs": [],
   "source": [
    "def backpropagate(x, target, h_output, y_output):\n",
    "    global w, w_out, b_hidden, b_out\n",
    "\n",
    "    # Çıkış hatası\n",
    "    error_output = sigmoid_derivative(y_output) * (target - y_output)\n",
    "\n",
    "    # Gizli katman hatası\n",
    "    error_hidden = [\n",
    "        sigmoid_derivative(h_output[i]) * (error_output * w_out[i])\n",
    "        for i in range(2)\n",
    "    ]\n",
    "\n",
    "    # Gizli -> Çıkış güncelleme\n",
    "    for i in range(2):\n",
    "        w_out[i] += learning_rate * error_output * h_output[i]\n",
    "    b_out += learning_rate * error_output\n",
    "\n",
    "    # Giriş -> Gizli güncelleme\n",
    "    for i in range(2):  # giriş x[0], x[1]\n",
    "        for j in range(2):  # gizli nöronlar\n",
    "            w[i][j] += learning_rate * error_hidden[j] * x[i]\n",
    "    for j in range(2):\n",
    "        b_hidden[j] += learning_rate * error_hidden[j]\n",
    "\n",
    "    # Dönüş: karesel hata \n",
    "    return (target - y_output) ** 2"
   ]
  },
  {
   "cell_type": "markdown",
   "id": "71a6c72b",
   "metadata": {},
   "source": [
    "5. Eğitim"
   ]
  },
  {
   "cell_type": "code",
   "execution_count": null,
   "id": "3fd7936d",
   "metadata": {},
   "outputs": [],
   "source": [
    "def train(X, y, epochs):\n",
    "    for epoch in range(epochs):\n",
    "        total_loss = 0\n",
    "        for i in range(len(X)):\n",
    "            x_i = X[i]\n",
    "            target = y[i]\n",
    "\n",
    "            h_out, y_out = forward(x_i)\n",
    "            loss = backpropagate(x_i, target, h_out, y_out)\n",
    "            total_loss += loss\n",
    "\n",
    "        if epoch % 1000 == 0:\n",
    "            print(f\"Epoch {epoch} - Hata: {total_loss}\")"
   ]
  },
  {
   "cell_type": "markdown",
   "id": "d168f29e",
   "metadata": {},
   "source": [
    "6. Tahmin Fonksiyonu"
   ]
  },
  {
   "cell_type": "code",
   "execution_count": null,
   "id": "0e66d2e1",
   "metadata": {},
   "outputs": [],
   "source": [
    "def predict(x):\n",
    "    _, y_out = forward(x)\n",
    "    return round(y_out)"
   ]
  },
  {
   "cell_type": "markdown",
   "id": "495fe01d",
   "metadata": {},
   "source": [
    "Main"
   ]
  },
  {
   "cell_type": "code",
   "execution_count": null,
   "id": "88c29ac3",
   "metadata": {},
   "outputs": [],
   "source": [
    "# AND kapısı verisi\n",
    "X = [\n",
    "    [0, 0],\n",
    "    [0, 1],\n",
    "    [1, 0],\n",
    "    [1, 1]\n",
    "]\n",
    "y = [0, 0, 0, 1]\n",
    "\n",
    "train(X, y, epochs=10000)\n",
    "\n",
    "# Test\n",
    "print(\"\\nTEST:\")\n",
    "for i in range(len(X)):\n",
    "    print(f\"Girdi: {X[i]} -> Tahmin: {predict(X[i])} (Gerçek: {y[i]})\")"
   ]
  }
 ],
 "metadata": {
  "kernelspec": {
   "display_name": "Python 3",
   "language": "python",
   "name": "python3"
  },
  "language_info": {
   "codemirror_mode": {
    "name": "ipython",
    "version": 3
   },
   "file_extension": ".py",
   "mimetype": "text/x-python",
   "name": "python",
   "nbconvert_exporter": "python",
   "pygments_lexer": "ipython3",
   "version": "3.11.9"
  }
 },
 "nbformat": 4,
 "nbformat_minor": 5
}
