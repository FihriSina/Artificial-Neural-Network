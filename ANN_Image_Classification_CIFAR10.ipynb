{
 "cells": [
  {
   "cell_type": "markdown",
   "id": "dafe16cc",
   "metadata": {},
   "source": [
    "### 1.  Sigmoid aktivasyon fonksiyonu"
   ]
  },
  {
   "cell_type": "code",
   "execution_count": null,
   "id": "c6110e9e",
   "metadata": {},
   "outputs": [],
   "source": [
    "import math\n",
    "import random\n",
    "\n",
    "def sigmoid(x):\n",
    "    return 1 / (1 + math.exp(-x))\n",
    "\n",
    "def sigmoid_derivative(output):\n",
    "    return output * (1 - output)"
   ]
  },
  {
   "cell_type": "markdown",
   "id": "c34f583f",
   "metadata": {},
   "source": [
    "### 2.    Ağırlık ve Biasları Başlatma"
   ]
  },
  {
   "cell_type": "code",
   "execution_count": null,
   "id": "1f3a6459",
   "metadata": {},
   "outputs": [],
   "source": [
    "def initialize_matrix(rows, cols):\n",
    "    return [[random.uniform(-1, 1) for _ in range(cols)] for _ in range(rows)]\n",
    "\n",
    "def initialize_vector(size):\n",
    "    return [random.uniform(-1, 1) for _ in range(size)]"
   ]
  },
  {
   "cell_type": "markdown",
   "id": "93c10525",
   "metadata": {},
   "source": [
    "##### Ağ tanımı"
   ]
  },
  {
   "cell_type": "code",
   "execution_count": null,
   "id": "c8a6c00f",
   "metadata": {},
   "outputs": [],
   "source": [
    "input_size = 4\n",
    "hidden_size = 5\n",
    "output_size = 3\n",
    "\n",
    "weights_input_hidden = initialize_matrix(input_size, hidden_size)\n",
    "bias_hidden = initialize_vector(hidden_size)\n",
    "\n",
    "weights_hidden_output = initialize_matrix(hidden_size, output_size)\n",
    "bias_output = initialize_vector(output_size)"
   ]
  },
  {
   "cell_type": "markdown",
   "id": "334b8e15",
   "metadata": {},
   "source": [
    "### 3.    Girdi – Küçük bir örnek veri seti"
   ]
  },
  {
   "cell_type": "code",
   "execution_count": null,
   "id": "af360397",
   "metadata": {},
   "outputs": [],
   "source": [
    "# Örnek veri: 2 örnek, 4 özellik\n",
    "X_train = [\n",
    "    [5.1, 3.5, 1.4, 0.2],\n",
    "    [6.2, 3.4, 5.4, 2.3]\n",
    "]\n",
    "\n",
    "# Sınıflar: örnek olarak [1, 0, 0] ve [0, 0, 1] gibi one-hot format\n",
    "y_train = [\n",
    "    [1, 0, 0],\n",
    "    [0, 0, 1]\n",
    "]"
   ]
  },
  {
   "cell_type": "markdown",
   "id": "88d3a636",
   "metadata": {},
   "source": [
    "### 4.  Vektör-Matris İşlemleri"
   ]
  },
  {
   "cell_type": "markdown",
   "id": "3b256739",
   "metadata": {},
   "source": [
    "##### Matris çarpımı (vektör * matris)"
   ]
  },
  {
   "cell_type": "code",
   "execution_count": null,
   "id": "3e38c6f4",
   "metadata": {},
   "outputs": [],
   "source": [
    "def vector_dot_matrix(vector, matrix):\n",
    "    result = []\n",
    "    for col in range(len(matrix[0])):\n",
    "        val = 0\n",
    "        for row in range(len(vector)):\n",
    "            val += vector[row] * matrix[row][col]\n",
    "        result.append(val)\n",
    "    return result"
   ]
  },
  {
   "cell_type": "markdown",
   "id": "2eb249aa",
   "metadata": {},
   "source": [
    "##### Vektör Toplama (Bias eklemek için)"
   ]
  },
  {
   "cell_type": "code",
   "execution_count": null,
   "id": "b8bf8a1b",
   "metadata": {},
   "outputs": [],
   "source": [
    "def vector_add(v1, v2):\n",
    "    return [a + b for a, b in zip(v1, v2)]"
   ]
  },
  {
   "cell_type": "markdown",
   "id": "6a3fb3d4",
   "metadata": {},
   "source": [
    "### 5.  Eğitim (Forward + Backward)"
   ]
  },
  {
   "cell_type": "code",
   "execution_count": null,
   "id": "c8b0c177",
   "metadata": {},
   "outputs": [],
   "source": [
    "learning_rate = 0.1\n",
    "epochs = 1000\n",
    "\n",
    "for epoch in range(epochs):\n",
    "    for x, target in zip(X_train, y_train):\n",
    "\n",
    "        # FORWARD PROPAGATION \n",
    "        hidden_input = vector_add(vector_dot_matrix(x, weights_input_hidden), bias_hidden)\n",
    "        hidden_output = [sigmoid(i) for i in hidden_input]\n",
    "\n",
    "        final_input = vector_add(vector_dot_matrix(hidden_output, weights_hidden_output), bias_output)\n",
    "        final_output = [sigmoid(i) for i in final_input]\n",
    "\n",
    "        # BACKPROPAGATION \n",
    "        # Çıktı katmanı hatası\n",
    "        output_errors = []\n",
    "        for o, t in zip(final_output, target):\n",
    "            err = (t - o) * sigmoid_derivative(o)\n",
    "            output_errors.append(err)\n",
    "\n",
    "        # Gizli katman hatası\n",
    "        hidden_errors = []\n",
    "        for i in range(hidden_size):\n",
    "            err = 0\n",
    "            for j in range(output_size):\n",
    "                err += output_errors[j] * weights_hidden_output[i][j]\n",
    "            err *= sigmoid_derivative(hidden_output[i])\n",
    "            hidden_errors.append(err)\n",
    "\n",
    "        # ---------- AĞIRLIK ve BIAS GÜNCELLEME ----------\n",
    "\n",
    "        # Gizli -> Çıktı ağırlıkları\n",
    "        for i in range(hidden_size):\n",
    "            for j in range(output_size):\n",
    "                delta = learning_rate * output_errors[j] * hidden_output[i]\n",
    "                weights_hidden_output[i][j] += delta\n",
    "\n",
    "        for j in range(output_size):\n",
    "            bias_output[j] += learning_rate * output_errors[j]\n",
    "\n",
    "        # Girdi -> Gizli ağırlıkları\n",
    "        for i in range(input_size):\n",
    "            for j in range(hidden_size):\n",
    "                delta = learning_rate * hidden_errors[j] * x[i]\n",
    "                weights_input_hidden[i][j] += delta\n",
    "\n",
    "        for j in range(hidden_size):\n",
    "            bias_hidden[j] += learning_rate * hidden_errors[j]"
   ]
  },
  {
   "cell_type": "markdown",
   "id": "2279639c",
   "metadata": {},
   "source": [
    "### 6.  Test Etme"
   ]
  },
  {
   "cell_type": "code",
   "execution_count": null,
   "id": "f45706ee",
   "metadata": {},
   "outputs": [],
   "source": [
    "for x, target in zip(X_train, y_train):\n",
    "    hidden_input = vector_add(vector_dot_matrix(x, weights_input_hidden), bias_hidden)\n",
    "    hidden_output = [sigmoid(i) for i in hidden_input]\n",
    "\n",
    "    final_input = vector_add(vector_dot_matrix(hidden_output, weights_hidden_output), bias_output)\n",
    "    final_output = [sigmoid(i) for i in final_input]\n",
    "\n",
    "    print(\"Tahmin:\", final_output)\n",
    "    print(\"Gerçek:\", target)"
   ]
  }
 ],
 "metadata": {
  "kernelspec": {
   "display_name": "Python 3",
   "language": "python",
   "name": "python3"
  },
  "language_info": {
   "codemirror_mode": {
    "name": "ipython",
    "version": 3
   },
   "file_extension": ".py",
   "mimetype": "text/x-python",
   "name": "python",
   "nbconvert_exporter": "python",
   "pygments_lexer": "ipython3",
   "version": "3.11.9"
  }
 },
 "nbformat": 4,
 "nbformat_minor": 5
}
